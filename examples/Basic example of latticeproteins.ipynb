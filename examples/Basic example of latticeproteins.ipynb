{
 "cells": [
  {
   "cell_type": "markdown",
   "metadata": {},
   "source": [
    "# Basic example of latticeproteins"
   ]
  },
  {
   "cell_type": "markdown",
   "metadata": {},
   "source": [
    "Import the latticeproteins package."
   ]
  },
  {
   "cell_type": "code",
   "execution_count": 1,
   "metadata": {
    "collapsed": true
   },
   "outputs": [],
   "source": [
    "import latticeproteins as lp"
   ]
  },
  {
   "cell_type": "markdown",
   "metadata": {},
   "source": [
    "The `LatticeThermodyanmics` class creates objects that can calculate lattice protein thermodynamics for any sequences of a specified length. In the example below, we initialize this object for sequences of length 10. Note that to avoid repeating expensive conformation enumerations, the `LatticeThermodynamics` object creates a directory in your current location called `database`. Inside this directory, it stores python `pickle` files that include a database of all conformations on a 2d grid."
   ]
  },
  {
   "cell_type": "code",
   "execution_count": 2,
   "metadata": {
    "inputHidden": false,
    "outputHidden": false
   },
   "outputs": [],
   "source": [
    "seq_length = 10\n",
    "temperature = 1.0\n",
    "lattice = lp.LatticeThermodynamics.from_length(seq_length, 1.0)"
   ]
  },
  {
   "cell_type": "markdown",
   "metadata": {},
   "source": [
    "Now, we'll create a random sequence with the given length and start evaluating thermodynamic values."
   ]
  },
  {
   "cell_type": "code",
   "execution_count": 3,
   "metadata": {
    "inputHidden": false,
    "outputHidden": false
   },
   "outputs": [
    {
     "name": "stdout",
     "output_type": "stream",
     "text": [
      "['W', 'C', 'K', 'C', 'I', 'D', 'N', 'G', 'K', 'T']\n"
     ]
    }
   ],
   "source": [
    "seq = lp.random_sequence(seq_length)\n",
    "print(seq)"
   ]
  },
  {
   "cell_type": "code",
   "execution_count": 4,
   "metadata": {},
   "outputs": [
    {
     "name": "stdout",
     "output_type": "stream",
     "text": [
      "Energy of native conformation: -15.460000\n",
      "stability of native conformation: 1.904670\n",
      "fraction folded: 0.129581\n"
     ]
    }
   ],
   "source": [
    "print(\"Energy of native conformation: %f\" % lattice.nativeE(seq))\n",
    "print(\"stability of native conformation: %f\" % lattice.stability(seq))\n",
    "print(\"fraction folded: %f\" % lattice.fracfolded(seq))"
   ]
  },
  {
   "cell_type": "markdown",
   "metadata": {},
   "source": [
    "The lattice protein package comes with a drawing module that creates SVG drawing of the lattice conformations."
   ]
  },
  {
   "cell_type": "code",
   "execution_count": 5,
   "metadata": {
    "inputHidden": false,
    "outputHidden": false
   },
   "outputs": [
    {
     "data": {
      "image/svg+xml": [
       "<svg baseProfile=\"full\" height=\"220\" version=\"1.1\" width=\"180\" xmlns=\"http://www.w3.org/2000/svg\" xmlns:ev=\"http://www.w3.org/2001/xml-events\" xmlns:xlink=\"http://www.w3.org/1999/xlink\"><defs /><text style=\"font-size:20.0px;font-family:Courier\" x=\"4.25\" y=\"12.5\">.</text><text style=\"font-size:20.0px;font-family:Courier\" x=\"44.25\" y=\"12.5\">.</text><text style=\"font-size:20.0px;font-family:Courier\" x=\"84.25\" y=\"12.5\">.</text><text style=\"font-size:20.0px;font-family:Courier\" x=\"124.25\" y=\"12.5\">.</text><text style=\"font-size:20.0px;font-family:Courier\" x=\"164.25\" y=\"12.5\">.</text><text style=\"font-size:20.0px;font-family:Courier\" x=\"4.25\" y=\"52.5\">.</text><text style=\"font-size:20px;font-family:Courier;font-weight:normal;fill:black\" x=\"44.5\" y=\"55.0\">C</text><line stroke=\"rgb(10%,10%,16%)\" style=\"stroke-width:2.0\" x1=\"65.0\" x2=\"75.0\" y1=\"50.0\" y2=\"50.0\" /><text style=\"font-size:20px;font-family:Courier;font-weight:normal;fill:black\" x=\"84.5\" y=\"55.0\">K</text><text style=\"font-size:20.0px;font-family:Courier\" x=\"124.25\" y=\"52.5\">.</text><text style=\"font-size:20.0px;font-family:Courier\" x=\"164.25\" y=\"52.5\">.</text><line stroke=\"rgb(10%,10%,16%)\" style=\"stroke-width:2.0\" x1=\"50.0\" x2=\"50.0\" y1=\"65.0\" y2=\"75.0\" /><line stroke=\"rgb(10%,10%,16%)\" style=\"stroke-width:2.0\" x1=\"90.0\" x2=\"90.0\" y1=\"75.0\" y2=\"65.0\" /><text style=\"font-size:20.0px;font-family:Courier\" x=\"4.25\" y=\"92.5\">.</text><text style=\"font-size:20px;font-family:Courier;font-weight:normal;fill:black\" x=\"44.5\" y=\"95.0\">W</text><text style=\"font-size:20px;font-family:Courier;font-weight:normal;fill:black\" x=\"84.5\" y=\"95.0\">C</text><text style=\"font-size:20.0px;font-family:Courier\" x=\"124.25\" y=\"92.5\">.</text><text style=\"font-size:20.0px;font-family:Courier\" x=\"164.25\" y=\"92.5\">.</text><line stroke=\"rgb(10%,10%,16%)\" style=\"stroke-width:2.0\" x1=\"90.0\" x2=\"90.0\" y1=\"115.0\" y2=\"105.0\" /><text style=\"font-size:20.0px;font-family:Courier\" x=\"4.25\" y=\"132.5\">.</text><text style=\"font-size:20px;font-family:Courier;font-weight:normal;fill:black\" x=\"44.5\" y=\"135.0\">T</text><text style=\"font-size:20px;font-family:Courier;font-weight:normal;fill:black\" x=\"84.5\" y=\"135.0\">I</text><line stroke=\"rgb(10%,10%,16%)\" style=\"stroke-width:2.0\" x1=\"105.0\" x2=\"115.0\" y1=\"130.0\" y2=\"130.0\" /><text style=\"font-size:20px;font-family:Courier;font-weight:normal;fill:black\" x=\"124.5\" y=\"135.0\">D</text><text style=\"font-size:20.0px;font-family:Courier\" x=\"164.25\" y=\"132.5\">.</text><line stroke=\"rgb(10%,10%,16%)\" style=\"stroke-width:2.0\" x1=\"50.0\" x2=\"50.0\" y1=\"145.0\" y2=\"155.0\" /><line stroke=\"rgb(10%,10%,16%)\" style=\"stroke-width:2.0\" x1=\"130.0\" x2=\"130.0\" y1=\"155.0\" y2=\"145.0\" /><text style=\"font-size:20.0px;font-family:Courier\" x=\"4.25\" y=\"172.5\">.</text><text style=\"font-size:20px;font-family:Courier;font-weight:normal;fill:black\" x=\"44.5\" y=\"175.0\">K</text><line stroke=\"rgb(10%,10%,16%)\" style=\"stroke-width:2.0\" x1=\"75.0\" x2=\"65.0\" y1=\"170.0\" y2=\"170.0\" /><text style=\"font-size:20px;font-family:Courier;font-weight:normal;fill:black\" x=\"84.5\" y=\"175.0\">G</text><line stroke=\"rgb(10%,10%,16%)\" style=\"stroke-width:2.0\" x1=\"115.0\" x2=\"105.0\" y1=\"170.0\" y2=\"170.0\" /><text style=\"font-size:20px;font-family:Courier;font-weight:normal;fill:black\" x=\"124.5\" y=\"175.0\">N</text><text style=\"font-size:20.0px;font-family:Courier\" x=\"164.25\" y=\"172.5\">.</text><text style=\"font-size:20.0px;font-family:Courier\" x=\"4.25\" y=\"212.5\">.</text><text style=\"font-size:20.0px;font-family:Courier\" x=\"44.25\" y=\"212.5\">.</text><text style=\"font-size:20.0px;font-family:Courier\" x=\"84.25\" y=\"212.5\">.</text><text style=\"font-size:20.0px;font-family:Courier\" x=\"124.25\" y=\"212.5\">.</text><text style=\"font-size:20.0px;font-family:Courier\" x=\"164.25\" y=\"212.5\">.</text></svg>"
      ],
      "text/plain": [
       "<latticeproteins.draw.Configuration object>"
      ]
     },
     "execution_count": 5,
     "metadata": {},
     "output_type": "execute_result"
    }
   ],
   "source": [
    "conf = lattice.native_conf(seq)\n",
    "lp.draw.in_notebook(seq, conf)"
   ]
  },
  {
   "cell_type": "markdown",
   "metadata": {},
   "source": [
    "## Fold lattice protein to nonnative state"
   ]
  },
  {
   "cell_type": "markdown",
   "metadata": {},
   "source": [
    "The `LatticeThermodynamics` object can also do the above calculations while using a specified *target* native state. "
   ]
  },
  {
   "cell_type": "code",
   "execution_count": 6,
   "metadata": {},
   "outputs": [
    {
     "data": {
      "image/svg+xml": [
       "<svg baseProfile=\"full\" height=\"220\" version=\"1.1\" width=\"180\" xmlns=\"http://www.w3.org/2000/svg\" xmlns:ev=\"http://www.w3.org/2001/xml-events\" xmlns:xlink=\"http://www.w3.org/1999/xlink\"><defs /><text style=\"font-size:20.0px;font-family:Courier\" x=\"4.25\" y=\"12.5\">.</text><text style=\"font-size:20.0px;font-family:Courier\" x=\"44.25\" y=\"12.5\">.</text><text style=\"font-size:20.0px;font-family:Courier\" x=\"84.25\" y=\"12.5\">.</text><text style=\"font-size:20.0px;font-family:Courier\" x=\"124.25\" y=\"12.5\">.</text><text style=\"font-size:20.0px;font-family:Courier\" x=\"164.25\" y=\"12.5\">.</text><text style=\"font-size:20.0px;font-family:Courier\" x=\"4.25\" y=\"52.5\">.</text><text style=\"font-size:20.0px;font-family:Courier\" x=\"44.25\" y=\"52.5\">.</text><text style=\"font-size:20px;font-family:Courier;font-weight:normal;fill:black\" x=\"84.5\" y=\"55.0\">K</text><line stroke=\"rgb(10%,10%,16%)\" style=\"stroke-width:2.0\" x1=\"105.0\" x2=\"115.0\" y1=\"50.0\" y2=\"50.0\" /><text style=\"font-size:20px;font-family:Courier;font-weight:normal;fill:black\" x=\"124.5\" y=\"55.0\">C</text><text style=\"font-size:20.0px;font-family:Courier\" x=\"164.25\" y=\"52.5\">.</text><line stroke=\"rgb(10%,10%,16%)\" style=\"stroke-width:2.0\" x1=\"90.0\" x2=\"90.0\" y1=\"65.0\" y2=\"75.0\" /><line stroke=\"rgb(10%,10%,16%)\" style=\"stroke-width:2.0\" x1=\"130.0\" x2=\"130.0\" y1=\"75.0\" y2=\"65.0\" /><text style=\"font-size:20.0px;font-family:Courier\" x=\"4.25\" y=\"92.5\">.</text><text style=\"font-size:20.0px;font-family:Courier\" x=\"44.25\" y=\"92.5\">.</text><text style=\"font-size:20px;font-family:Courier;font-weight:normal;fill:black\" x=\"84.5\" y=\"95.0\">C</text><text style=\"font-size:20px;font-family:Courier;font-weight:normal;fill:black\" x=\"124.5\" y=\"95.0\">I</text><text style=\"font-size:20.0px;font-family:Courier\" x=\"164.25\" y=\"92.5\">.</text><line stroke=\"rgb(10%,10%,16%)\" style=\"stroke-width:2.0\" x1=\"90.0\" x2=\"90.0\" y1=\"105.0\" y2=\"115.0\" /><line stroke=\"rgb(10%,10%,16%)\" style=\"stroke-width:2.0\" x1=\"130.0\" x2=\"130.0\" y1=\"115.0\" y2=\"105.0\" /><text style=\"font-size:20.0px;font-family:Courier\" x=\"4.25\" y=\"132.5\">.</text><text style=\"font-size:20px;font-family:Courier;font-weight:normal;fill:black\" x=\"44.5\" y=\"135.0\">T</text><text style=\"font-size:20px;font-family:Courier;font-weight:normal;fill:black\" x=\"84.5\" y=\"135.0\">W</text><text style=\"font-size:20px;font-family:Courier;font-weight:normal;fill:black\" x=\"124.5\" y=\"135.0\">D</text><text style=\"font-size:20.0px;font-family:Courier\" x=\"164.25\" y=\"132.5\">.</text><line stroke=\"rgb(10%,10%,16%)\" style=\"stroke-width:2.0\" x1=\"50.0\" x2=\"50.0\" y1=\"145.0\" y2=\"155.0\" /><line stroke=\"rgb(10%,10%,16%)\" style=\"stroke-width:2.0\" x1=\"130.0\" x2=\"130.0\" y1=\"155.0\" y2=\"145.0\" /><text style=\"font-size:20.0px;font-family:Courier\" x=\"4.25\" y=\"172.5\">.</text><text style=\"font-size:20px;font-family:Courier;font-weight:normal;fill:black\" x=\"44.5\" y=\"175.0\">K</text><line stroke=\"rgb(10%,10%,16%)\" style=\"stroke-width:2.0\" x1=\"75.0\" x2=\"65.0\" y1=\"170.0\" y2=\"170.0\" /><text style=\"font-size:20px;font-family:Courier;font-weight:normal;fill:black\" x=\"84.5\" y=\"175.0\">G</text><line stroke=\"rgb(10%,10%,16%)\" style=\"stroke-width:2.0\" x1=\"115.0\" x2=\"105.0\" y1=\"170.0\" y2=\"170.0\" /><text style=\"font-size:20px;font-family:Courier;font-weight:normal;fill:black\" x=\"124.5\" y=\"175.0\">N</text><text style=\"font-size:20.0px;font-family:Courier\" x=\"164.25\" y=\"172.5\">.</text><text style=\"font-size:20.0px;font-family:Courier\" x=\"4.25\" y=\"212.5\">.</text><text style=\"font-size:20.0px;font-family:Courier\" x=\"44.25\" y=\"212.5\">.</text><text style=\"font-size:20.0px;font-family:Courier\" x=\"84.25\" y=\"212.5\">.</text><text style=\"font-size:20.0px;font-family:Courier\" x=\"124.25\" y=\"212.5\">.</text><text style=\"font-size:20.0px;font-family:Courier\" x=\"164.25\" y=\"212.5\">.</text></svg>"
      ],
      "text/plain": [
       "<latticeproteins.draw.Configuration object>"
      ]
     },
     "execution_count": 6,
     "metadata": {},
     "output_type": "execute_result"
    }
   ],
   "source": [
    "# Find the 5 lowest energy conformations.\n",
    "alt_conf = lattice.confs.k_lowest_confs(seq, 1.0, 5)\n",
    "\n",
    "# Choose the 5th lowest as the target fold.\n",
    "target = alt_conf[-1]\n",
    "lp.draw.in_notebook(seq, target)"
   ]
  },
  {
   "cell_type": "code",
   "execution_count": 7,
   "metadata": {},
   "outputs": [
    {
     "name": "stdout",
     "output_type": "stream",
     "text": [
      "Energy of native conformation: -14.620000\n",
      "stability of native conformation: 2.825883\n",
      "fraction folded: 0.055941\n"
     ]
    }
   ],
   "source": [
    "print(\"Energy of native conformation: %f\" % lattice.nativeE(seq, target=target))\n",
    "print(\"stability of native conformation: %f\" % lattice.stability(seq, target=target))\n",
    "print(\"fraction folded: %f\" % lattice.fracfolded(seq, target=target))"
   ]
  }
 ],
 "metadata": {
  "kernel_info": {
   "name": "py3"
  },
  "kernelspec": {
   "display_name": "Python 3 (ensembles)",
   "language": "python",
   "name": "ensembles"
  },
  "language_info": {
   "codemirror_mode": {
    "name": "ipython",
    "version": 3
   },
   "file_extension": ".py",
   "mimetype": "text/x-python",
   "name": "python",
   "nbconvert_exporter": "python",
   "pygments_lexer": "ipython3",
   "version": "3.6.2"
  }
 },
 "nbformat": 4,
 "nbformat_minor": 2
}
